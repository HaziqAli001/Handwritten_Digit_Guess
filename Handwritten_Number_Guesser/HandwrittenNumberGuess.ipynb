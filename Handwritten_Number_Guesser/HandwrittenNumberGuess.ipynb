{
  "nbformat": 4,
  "nbformat_minor": 0,
  "metadata": {
    "colab": {
      "provenance": []
    },
    "kernelspec": {
      "name": "python3",
      "display_name": "Python 3"
    }
  },
  "cells": [
    {
      "cell_type": "code",
      "metadata": {
        "id": "NhvzAooeba0K",
        "colab": {
          "base_uri": "https://localhost:8080/"
        },
        "outputId": "6b6ebed4-5887-4542-e16f-af46eb755665"
      },
      "source": [
        "from tensorflow.keras.datasets import mnist\n",
        "(train_images,train_labels),(test_images,test_labels)=mnist.load_data()\n",
        "\n",
        " \n"
      ],
      "execution_count": 2,
      "outputs": [
        {
          "output_type": "stream",
          "name": "stdout",
          "text": [
            "Downloading data from https://storage.googleapis.com/tensorflow/tf-keras-datasets/mnist.npz\n",
            "11490434/11490434 [==============================] - 0s 0us/step\n"
          ]
        }
      ]
    },
    {
      "cell_type": "code",
      "metadata": {
        "id": "YqkK1bUF9MUY"
      },
      "source": [
        "from tensorflow.keras import models\n",
        "from tensorflow.keras import layers\n",
        "net = models.Sequential()\n",
        "net.add(layers.Dense(512,activation='relu',input_shape=(28*28,)))\n",
        "net.add(layers.Dense(10,activation='softmax'))"
      ],
      "execution_count": 3,
      "outputs": []
    },
    {
      "cell_type": "code",
      "metadata": {
        "id": "g6R8h12w9Q7l"
      },
      "source": [
        "net.compile(optimizer='rmsprop',loss='categorical_crossentropy',metrics=['accuracy'])"
      ],
      "execution_count": 4,
      "outputs": []
    },
    {
      "cell_type": "code",
      "metadata": {
        "id": "QHgMh_GL802s"
      },
      "source": [
        "train_images= train_images.reshape((60000,28*28))\n",
        "train_images= train_images.astype('float32')/255\n",
        "test_images=test_images.reshape((10000,28*28))\n",
        "test_images= test_images.astype('float32')/255"
      ],
      "execution_count": 5,
      "outputs": []
    },
    {
      "cell_type": "code",
      "metadata": {
        "id": "Drjaoq1NDbOE"
      },
      "source": [
        "from tensorflow.keras.utils import to_categorical\n",
        "train_labels=to_categorical(train_labels)\n",
        "test_labels=to_categorical(test_labels)"
      ],
      "execution_count": 6,
      "outputs": []
    },
    {
      "cell_type": "code",
      "metadata": {
        "colab": {
          "base_uri": "https://localhost:8080/"
        },
        "id": "UhHjnO7PD7Xk",
        "outputId": "449f7d1d-3218-4533-b0ef-a688de6ea6d5"
      },
      "source": [
        "net.fit(train_images, train_labels, epochs=5, validation_batch_size=128)\n"
      ],
      "execution_count": 8,
      "outputs": [
        {
          "output_type": "stream",
          "name": "stdout",
          "text": [
            "Epoch 1/5\n",
            "1875/1875 [==============================] - 6s 3ms/step - loss: 0.0336 - accuracy: 0.9911\n",
            "Epoch 2/5\n",
            "1875/1875 [==============================] - 7s 3ms/step - loss: 0.0277 - accuracy: 0.9927\n",
            "Epoch 3/5\n",
            "1875/1875 [==============================] - 7s 3ms/step - loss: 0.0229 - accuracy: 0.9940\n",
            "Epoch 4/5\n",
            "1875/1875 [==============================] - 6s 3ms/step - loss: 0.0183 - accuracy: 0.9950\n",
            "Epoch 5/5\n",
            "1875/1875 [==============================] - 7s 4ms/step - loss: 0.0160 - accuracy: 0.9958\n"
          ]
        },
        {
          "output_type": "execute_result",
          "data": {
            "text/plain": [
              "<keras.callbacks.History at 0x7fe40ed02fa0>"
            ]
          },
          "metadata": {},
          "execution_count": 8
        }
      ]
    },
    {
      "cell_type": "code",
      "metadata": {
        "colab": {
          "base_uri": "https://localhost:8080/"
        },
        "id": "utp5Y3HRFDXx",
        "outputId": "1ca6ee18-630f-42cb-aafa-9707bd4a1df2"
      },
      "source": [
        "test_loss,test_acc= net.evaluate(test_images,test_labels)\n",
        "print(test_loss)\n",
        "print(test_acc)"
      ],
      "execution_count": 9,
      "outputs": [
        {
          "output_type": "stream",
          "name": "stdout",
          "text": [
            "313/313 [==============================] - 1s 2ms/step - loss: 0.1012 - accuracy: 0.9813\n",
            "0.10123661160469055\n",
            "0.9812999963760376\n"
          ]
        }
      ]
    },
    {
      "cell_type": "code",
      "metadata": {
        "colab": {
          "base_uri": "https://localhost:8080/"
        },
        "id": "Yk_mmU7OFmGD",
        "outputId": "41245502-940c-40df-e62b-2f7ed7de3db7"
      },
      "source": [
        "import numpy as np\n",
        "res = net.predict([np.array(test_images[0]).astype('float32').reshape((1,784))])\n",
        "res.argmax()"
      ],
      "execution_count": 17,
      "outputs": [
        {
          "output_type": "stream",
          "name": "stdout",
          "text": [
            "1/1 [==============================] - 0s 20ms/step\n"
          ]
        },
        {
          "output_type": "execute_result",
          "data": {
            "text/plain": [
              "7"
            ]
          },
          "metadata": {},
          "execution_count": 17
        }
      ]
    },
    {
      "cell_type": "code",
      "source": [
        "net.save('MNIST_Handwritting.h5')"
      ],
      "metadata": {
        "id": "BXAAw7AnatdR"
      },
      "execution_count": null,
      "outputs": []
    },
    {
      "cell_type": "code",
      "source": [
        "test_images[0].shape"
      ],
      "metadata": {
        "colab": {
          "base_uri": "https://localhost:8080/"
        },
        "id": "MedTsi8MTyE0",
        "outputId": "7ef16f38-ec0c-474d-f0d7-508c081f0673"
      },
      "execution_count": null,
      "outputs": [
        {
          "output_type": "execute_result",
          "data": {
            "text/plain": [
              "(784,)"
            ]
          },
          "metadata": {},
          "execution_count": 14
        }
      ]
    },
    {
      "cell_type": "code",
      "metadata": {
        "colab": {
          "base_uri": "https://localhost:8080/",
          "height": 265
        },
        "id": "sRNk9NJfF7wu",
        "outputId": "f0ce3b21-1d2f-44b1-fc4b-da3ddd5e20a5"
      },
      "source": [
        "dig =test_images[0].reshape((28,28))\n",
        "import matplotlib.pyplot as plt\n",
        "plt.imshow(dig,cmap=plt.cm.binary)\n",
        "plt.show()"
      ],
      "execution_count": 16,
      "outputs": [
        {
          "output_type": "display_data",
          "data": {
            "text/plain": [
              "<Figure size 432x288 with 1 Axes>"
            ],
            "image/png": "[encoded data removed]"
          },
          "metadata": {
            "needs_background": "light"
          }
        }
      ]
    }
  ]
}